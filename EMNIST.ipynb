{
  "nbformat": 4,
  "nbformat_minor": 0,
  "metadata": {
    "colab": {
      "name": "EMNIST.ipynb",
      "provenance": [],
      "authorship_tag": "ABX9TyMdS5ABGmOsDBAT9r05aMiy",
      "include_colab_link": true
    },
    "kernelspec": {
      "name": "python3",
      "display_name": "Python 3"
    },
    "language_info": {
      "name": "python"
    }
  },
  "cells": [
    {
      "cell_type": "markdown",
      "metadata": {
        "id": "view-in-github",
        "colab_type": "text"
      },
      "source": [
        "<a href=\"https://colab.research.google.com/github/kavithachitriki/OCRProject/blob/main/EMNIST.ipynb\" target=\"_parent\"><img src=\"https://colab.research.google.com/assets/colab-badge.svg\" alt=\"Open In Colab\"/></a>"
      ]
    },
    {
      "cell_type": "code",
      "metadata": {
        "id": "fwZmlE2tWDEj"
      },
      "source": [
        "import numpy as np\n",
        "import tensorflow as tf\n",
        "from tensorflow.keras.models import load_model\n",
        "import cv2 as cv\n",
        "import matplotlib.pyplot as plt\n",
        "\n",
        "# Image preprocessing module\n",
        "from PIL import Image, ImageFilter"
      ],
      "execution_count": 1,
      "outputs": []
    },
    {
      "cell_type": "code",
      "metadata": {
        "id": "13EfWifenSy4"
      },
      "source": [
        "# Import modules\n",
        "import numpy as np \n",
        "import pandas as pd \n",
        "import tensorflow as tf\n",
        "import matplotlib.pyplot as plt\n",
        "import math\n",
        "\n",
        "from sklearn.model_selection import train_test_split\n",
        "import sklearn.metrics as metrics\n",
        "\n",
        "#keras\n",
        "from tensorflow.keras.utils import to_categorical\n",
        "from tensorflow.keras.preprocessing.image import ImageDataGenerator\n",
        "from tensorflow.keras.models import Sequential\n",
        "from tensorflow.keras.layers import BatchNormalization, Dense, Dropout, Flatten\n",
        "from tensorflow.keras.layers import Conv2D, MaxPooling2D, AveragePooling2D\n",
        "from tensorflow.keras.callbacks import LearningRateScheduler, EarlyStopping\n",
        "from tensorflow.keras.metrics import top_k_categorical_accuracy"
      ],
      "execution_count": 2,
      "outputs": []
    },
    {
      "cell_type": "code",
      "metadata": {
        "colab": {
          "base_uri": "https://localhost:8080/"
        },
        "id": "tHu5VKnLnkjN",
        "outputId": "e5c88d8a-81a8-4033-82b6-c4e70a1f2bb1"
      },
      "source": [
        "pip install emnist"
      ],
      "execution_count": 3,
      "outputs": [
        {
          "output_type": "stream",
          "text": [
            "Collecting emnist\n",
            "  Downloading https://files.pythonhosted.org/packages/d1/f4/78b24acbef9e8fe976dda700f16a3606f3b8363b015bc555f8050fbbd8ac/emnist-0.0-py3-none-any.whl\n",
            "Requirement already satisfied: numpy in /usr/local/lib/python3.7/dist-packages (from emnist) (1.19.5)\n",
            "Requirement already satisfied: tqdm in /usr/local/lib/python3.7/dist-packages (from emnist) (4.41.1)\n",
            "Requirement already satisfied: requests in /usr/local/lib/python3.7/dist-packages (from emnist) (2.23.0)\n",
            "Requirement already satisfied: idna<3,>=2.5 in /usr/local/lib/python3.7/dist-packages (from requests->emnist) (2.10)\n",
            "Requirement already satisfied: certifi>=2017.4.17 in /usr/local/lib/python3.7/dist-packages (from requests->emnist) (2020.12.5)\n",
            "Requirement already satisfied: urllib3!=1.25.0,!=1.25.1,<1.26,>=1.21.1 in /usr/local/lib/python3.7/dist-packages (from requests->emnist) (1.24.3)\n",
            "Requirement already satisfied: chardet<4,>=3.0.2 in /usr/local/lib/python3.7/dist-packages (from requests->emnist) (3.0.4)\n",
            "Installing collected packages: emnist\n",
            "Successfully installed emnist-0.0\n"
          ],
          "name": "stdout"
        }
      ]
    },
    {
      "cell_type": "code",
      "metadata": {
        "colab": {
          "base_uri": "https://localhost:8080/"
        },
        "id": "V5gbSskfnlgZ",
        "outputId": "7d9d7ded-5927-4244-8181-c99e9c8e8f29"
      },
      "source": [
        "from emnist import list_datasets\n",
        "list_datasets()"
      ],
      "execution_count": 4,
      "outputs": [
        {
          "output_type": "stream",
          "text": [
            "Downloading emnist.zip: 536MB [00:03, 160MB/s]\n"
          ],
          "name": "stderr"
        },
        {
          "output_type": "execute_result",
          "data": {
            "text/plain": [
              "['balanced', 'byclass', 'bymerge', 'digits', 'letters', 'mnist']"
            ]
          },
          "metadata": {
            "tags": []
          },
          "execution_count": 4
        }
      ]
    },
    {
      "cell_type": "code",
      "metadata": {
        "id": "raDAAtUbnr6x"
      },
      "source": [
        "from emnist import extract_training_samples\n",
        "images_train, labels_train = extract_training_samples('letters')\n",
        "from emnist import extract_test_samples\n",
        "images_test, labels_test = extract_test_samples('letters')\n"
      ],
      "execution_count": 32,
      "outputs": []
    },
    {
      "cell_type": "code",
      "metadata": {
        "colab": {
          "base_uri": "https://localhost:8080/"
        },
        "id": "fbM0LJxfn02t",
        "outputId": "fe72ed1c-ce74-4a94-e8e4-7ace7e1fb1c2"
      },
      "source": [
        "print(\"Train: %s, Test: %s\" %(images_train.shape, images_test.shape))"
      ],
      "execution_count": 25,
      "outputs": [
        {
          "output_type": "stream",
          "text": [
            "Train: (124800, 28, 28), Test: (20800, 28, 28)\n"
          ],
          "name": "stdout"
        }
      ]
    },
    {
      "cell_type": "code",
      "metadata": {
        "id": "SSTLwMjkn757"
      },
      "source": [
        "    mapp = pd.read_csv(\n",
        "    r'emnist-letters-mapping.txt',\n",
        "    delimiter=' ',\n",
        "    index_col=0,\n",
        "    header=None,\n",
        "    squeeze=True\n",
        ")"
      ],
      "execution_count": 26,
      "outputs": []
    },
    {
      "cell_type": "code",
      "metadata": {
        "id": "hTK2LJtpoFct"
      },
      "source": [
        "HEIGHT = 28\n",
        "WIDTH = 28"
      ],
      "execution_count": 15,
      "outputs": []
    },
    {
      "cell_type": "code",
      "metadata": {
        "colab": {
          "base_uri": "https://localhost:8080/"
        },
        "id": "_vDwU8_Po7YM",
        "outputId": "037db450-1bf1-4b18-aebf-1933581a9a8f"
      },
      "source": [
        "# Flatten Data\n",
        "#dims = images_train.shape[1] * images_train.shape[2]\n",
        "#X_train = images_train.reshape(images_train.shape[0], dims)\n",
        "#X_test = images_test.reshape(images_test.shape[0], dims)\n",
        "#print(\"Training Shape:\", X_train.shape)\n",
        "#print(\"Testing Shape:\", X_test.shape)"
      ],
      "execution_count": 27,
      "outputs": [
        {
          "output_type": "stream",
          "text": [
            "Training Shape: (124800, 784)\n",
            "Testing Shape: (20800, 784)\n"
          ],
          "name": "stdout"
        }
      ]
    },
    {
      "cell_type": "code",
      "metadata": {
        "colab": {
          "base_uri": "https://localhost:8080/"
        },
        "id": "3ojSp3dNo-rt",
        "outputId": "bf001034-2c29-4a7e-d66d-ef60a1765402"
      },
      "source": [
        "# Rescale to 0 -> 1 by dividing by max pixel value (255)\n",
        "X_train = images_train.astype('float32')/255\n",
        "X_test = images_test.astype('float32')/255\n",
        "print(\"Training Shape:\", X_train.shape)\n",
        "print(\"Testing Shape:\", X_test.shape)"
      ],
      "execution_count": 35,
      "outputs": [
        {
          "output_type": "stream",
          "text": [
            "Training Shape: (124800, 28, 28)\n",
            "Testing Shape: (20800, 28, 28)\n"
          ],
          "name": "stdout"
        }
      ]
    },
    {
      "cell_type": "code",
      "metadata": {
        "id": "ZQ8sop1aoJ90"
      },
      "source": [
        "train_x = X_train\n",
        "train_y = labels_train\n",
        "\n",
        "\n",
        "test_x = X_test\n",
        "test_y = labels_test\n"
      ],
      "execution_count": 36,
      "outputs": []
    },
    {
      "cell_type": "code",
      "metadata": {
        "colab": {
          "base_uri": "https://localhost:8080/",
          "height": 247
        },
        "id": "AYmmfXp1o6oC",
        "outputId": "ebfd0072-f6ea-4982-f950-04262acc7ef8"
      },
      "source": [
        "for i in range(100,109):\n",
        "  plt.subplot(330 + (i+1))\n",
        "  plt.subplots_adjust(hspace=0.5, top=1)\n",
        "  plt.imshow(train_x[i], cmap=plt.get_cmap('gray'))\n",
        "  plt.title(chr(mapp.iloc[train_y[i]-1,0]))"
      ],
      "execution_count": 37,
      "outputs": [
        {
          "output_type": "display_data",
          "data": {
            "image/png": "[encoded data removed]",
            "text/plain": [
              "<Figure size 432x288 with 9 Axes>"
            ]
          },
          "metadata": {
            "tags": [],
            "needs_background": "light"
          }
        }
      ]
    },
    {
      "cell_type": "code",
      "metadata": {
        "id": "T03Bpkuoq8vk"
      },
      "source": [
        "num_classes = 26"
      ],
      "execution_count": 40,
      "outputs": []
    },
    {
      "cell_type": "code",
      "metadata": {
        "colab": {
          "base_uri": "https://localhost:8080/"
        },
        "id": "45h7VBmWrvgo",
        "outputId": "9151b208-9404-40b4-fca6-1e4409ab0999"
      },
      "source": [
        "train_y = to_categorical(labels_train-1, num_classes)\n",
        "test_y = to_categorical(labels_test-1, num_classes)\n",
        "print(\"train_y: \", train_y.shape)\n",
        "print(\"test_y: \", test_y.shape)"
      ],
      "execution_count": 41,
      "outputs": [
        {
          "output_type": "stream",
          "text": [
            "train_y:  (124800, 26)\n",
            "test_y:  (20800, 26)\n"
          ],
          "name": "stdout"
        }
      ]
    },
    {
      "cell_type": "code",
      "metadata": {
        "colab": {
          "base_uri": "https://localhost:8080/"
        },
        "id": "2_WueEt9r4c4",
        "outputId": "27f72417-09af-42a7-a407-6af48b0c92f9"
      },
      "source": [
        "# partition to train and val\n",
        "train_x, val_x, train_y, val_y = train_test_split(train_x, \n",
        "                                                  train_y, \n",
        "                                                  test_size=0.10, \n",
        "                                                  random_state=7)\n",
        "\n",
        "print(train_x.shape, val_x.shape, train_y.shape, val_y.shape)"
      ],
      "execution_count": 42,
      "outputs": [
        {
          "output_type": "stream",
          "text": [
            "(112320, 28, 28) (12480, 28, 28) (112320, 26) (12480, 26)\n"
          ],
          "name": "stdout"
        }
      ]
    },
    {
      "cell_type": "code",
      "metadata": {
        "id": "rrcBFAMtr-sk"
      },
      "source": [
        "# Reshape\n",
        "train_x = train_x.reshape(-1, HEIGHT, WIDTH, 1)\n",
        "test_x = test_x.reshape(-1, HEIGHT, WIDTH, 1)\n",
        "val_x = val_x.reshape(-1, HEIGHT, WIDTH, 1)"
      ],
      "execution_count": 43,
      "outputs": []
    },
    {
      "cell_type": "code",
      "metadata": {
        "id": "aSwSFc0jsEBE"
      },
      "source": [
        "# Create more images via data augmentation\n",
        "datagen = ImageDataGenerator(\n",
        "    rotation_range = 10,\n",
        "    zoom_range = 0.10,\n",
        "    width_shift_range=0.1,\n",
        "    height_shift_range=0.1\n",
        ")\n",
        "\n",
        "train_gen = datagen.flow(train_x, train_y, batch_size=64)\n",
        "val_gen = datagen.flow(val_x, val_y, batch_size=64)"
      ],
      "execution_count": 44,
      "outputs": []
    },
    {
      "cell_type": "code",
      "metadata": {
        "colab": {
          "base_uri": "https://localhost:8080/"
        },
        "id": "xxxdaIs_sKDN",
        "outputId": "5eada99f-21d3-4d61-d685-0e142e25693e"
      },
      "source": [
        "model = Sequential()\n",
        "\n",
        "model.add(Conv2D(32, kernel_size=3, activation='relu', input_shape=(HEIGHT, WIDTH, 1)))\n",
        "model.add(BatchNormalization())\n",
        "model.add(Conv2D(32, kernel_size=3,activation='relu'))\n",
        "model.add(BatchNormalization())\n",
        "model.add(Conv2D(32, kernel_size=5, strides=2, padding='same', activation='relu'))\n",
        "model.add(BatchNormalization())\n",
        "model.add(Dropout(0.4))\n",
        "\n",
        "\n",
        "model.add(Conv2D(64, kernel_size=3, activation='relu'))\n",
        "model.add(BatchNormalization())\n",
        "model.add(Conv2D(64, kernel_size=3, activation='relu'))\n",
        "model.add(BatchNormalization())\n",
        "model.add(Conv2D(64, kernel_size=5, strides=2, padding='same', activation='relu'))\n",
        "model.add(BatchNormalization())\n",
        "model.add(Dropout(0.4))\n",
        "\n",
        "\n",
        "model.add(Conv2D(128, kernel_size=4, activation='relu'))\n",
        "model.add(BatchNormalization())\n",
        "\n",
        "\n",
        "model.add(Flatten())\n",
        "model.add(Dropout(0.4))\n",
        "model.add(Dense(units=num_classes, activation='softmax'))\n",
        "\n",
        "input_shape = (None, HEIGHT, WIDTH, 1)\n",
        "model.build(input_shape)\n",
        "model.summary()"
      ],
      "execution_count": 45,
      "outputs": [
        {
          "output_type": "stream",
          "text": [
            "Model: \"sequential\"\n",
            "_________________________________________________________________\n",
            "Layer (type)                 Output Shape              Param #   \n",
            "=================================================================\n",
            "conv2d (Conv2D)              (None, 26, 26, 32)        320       \n",
            "_________________________________________________________________\n",
            "batch_normalization (BatchNo (None, 26, 26, 32)        128       \n",
            "_________________________________________________________________\n",
            "conv2d_1 (Conv2D)            (None, 24, 24, 32)        9248      \n",
            "_________________________________________________________________\n",
            "batch_normalization_1 (Batch (None, 24, 24, 32)        128       \n",
            "_________________________________________________________________\n",
            "conv2d_2 (Conv2D)            (None, 12, 12, 32)        25632     \n",
            "_________________________________________________________________\n",
            "batch_normalization_2 (Batch (None, 12, 12, 32)        128       \n",
            "_________________________________________________________________\n",
            "dropout (Dropout)            (None, 12, 12, 32)        0         \n",
            "_________________________________________________________________\n",
            "conv2d_3 (Conv2D)            (None, 10, 10, 64)        18496     \n",
            "_________________________________________________________________\n",
            "batch_normalization_3 (Batch (None, 10, 10, 64)        256       \n",
            "_________________________________________________________________\n",
            "conv2d_4 (Conv2D)            (None, 8, 8, 64)          36928     \n",
            "_________________________________________________________________\n",
            "batch_normalization_4 (Batch (None, 8, 8, 64)          256       \n",
            "_________________________________________________________________\n",
            "conv2d_5 (Conv2D)            (None, 4, 4, 64)          102464    \n",
            "_________________________________________________________________\n",
            "batch_normalization_5 (Batch (None, 4, 4, 64)          256       \n",
            "_________________________________________________________________\n",
            "dropout_1 (Dropout)          (None, 4, 4, 64)          0         \n",
            "_________________________________________________________________\n",
            "conv2d_6 (Conv2D)            (None, 1, 1, 128)         131200    \n",
            "_________________________________________________________________\n",
            "batch_normalization_6 (Batch (None, 1, 1, 128)         512       \n",
            "_________________________________________________________________\n",
            "flatten (Flatten)            (None, 128)               0         \n",
            "_________________________________________________________________\n",
            "dropout_2 (Dropout)          (None, 128)               0         \n",
            "_________________________________________________________________\n",
            "dense (Dense)                (None, 26)                3354      \n",
            "=================================================================\n",
            "Total params: 329,306\n",
            "Trainable params: 328,474\n",
            "Non-trainable params: 832\n",
            "_________________________________________________________________\n"
          ],
          "name": "stdout"
        }
      ]
    },
    {
      "cell_type": "code",
      "metadata": {
        "colab": {
          "base_uri": "https://localhost:8080/"
        },
        "id": "sczk2fzusPKr",
        "outputId": "beea0935-7f5f-4007-bf83-b61dabebd761"
      },
      "source": [
        "  \n",
        "my_callbacks = [\n",
        "    # Decrease learning rate\n",
        "    LearningRateScheduler(lambda x: 1e-3 * 0.95 ** x),\n",
        "    # Training will stop there is no improvement in val_loss after 3 epochs\n",
        "    EarlyStopping(monitor=\"val_acc\", \n",
        "                  patience=3, \n",
        "                  mode='max', \n",
        "                  restore_best_weights=True)\n",
        "]\n",
        "\n",
        "# def top_3_accuracy(y_true, y_pred):\n",
        "#     return top_k_categorical_accuracy(y_true, y_pred, k=3)\n",
        "\n",
        "\n",
        "# TRAIN NETWORKS\n",
        "model.compile(loss='categorical_crossentropy', optimizer='adam', metrics=['accuracy'])\n",
        "# history = model.fit(train_x, train_y, \n",
        "#                     epochs=100,\n",
        "#                     verbose=1, validation_data=(val_x, val_y), \n",
        "#                     callbacks=my_callbacks)\n",
        "\n",
        "# With datagen\n",
        "history = model.fit_generator(train_gen, steps_per_epoch=train_x.shape[0]//64, epochs=100,\n",
        "                              validation_data=val_gen, validation_steps=val_x.shape[0]//64, callbacks=my_callbacks)\n",
        "score = model.evaluate(test_x, test_y, verbose=0)\n",
        "print(\"Test loss:\", score[0])\n",
        "print(\"Test accuracy:\", score[1])"
      ],
      "execution_count": null,
      "outputs": [
        {
          "output_type": "stream",
          "text": [
            "/usr/local/lib/python3.7/dist-packages/tensorflow/python/keras/engine/training.py:1844: UserWarning: `Model.fit_generator` is deprecated and will be removed in a future version. Please use `Model.fit`, which supports generators.\n",
            "  warnings.warn('`Model.fit_generator` is deprecated and '\n"
          ],
          "name": "stderr"
        },
        {
          "output_type": "stream",
          "text": [
            "Epoch 1/100\n",
            "1755/1755 [==============================] - 492s 280ms/step - loss: 1.4023 - accuracy: 0.6024 - val_loss: 0.2962 - val_accuracy: 0.8983\n",
            "WARNING:tensorflow:Early stopping conditioned on metric `val_acc` which is not available. Available metrics are: loss,accuracy,val_loss,val_accuracy,lr\n",
            "Epoch 2/100\n",
            "1755/1755 [==============================] - 488s 278ms/step - loss: 0.3952 - accuracy: 0.8729 - val_loss: 0.2400 - val_accuracy: 0.9203\n",
            "WARNING:tensorflow:Early stopping conditioned on metric `val_acc` which is not available. Available metrics are: loss,accuracy,val_loss,val_accuracy,lr\n",
            "Epoch 3/100\n",
            "1755/1755 [==============================] - 488s 278ms/step - loss: 0.3259 - accuracy: 0.8964 - val_loss: 0.2232 - val_accuracy: 0.9236\n",
            "WARNING:tensorflow:Early stopping conditioned on metric `val_acc` which is not available. Available metrics are: loss,accuracy,val_loss,val_accuracy,lr\n",
            "Epoch 4/100\n",
            "1755/1755 [==============================] - 486s 277ms/step - loss: 0.2831 - accuracy: 0.9075 - val_loss: 0.2081 - val_accuracy: 0.9308\n",
            "WARNING:tensorflow:Early stopping conditioned on metric `val_acc` which is not available. Available metrics are: loss,accuracy,val_loss,val_accuracy,lr\n",
            "Epoch 5/100\n",
            "1755/1755 [==============================] - 484s 276ms/step - loss: 0.2614 - accuracy: 0.9142 - val_loss: 0.2237 - val_accuracy: 0.9230\n",
            "WARNING:tensorflow:Early stopping conditioned on metric `val_acc` which is not available. Available metrics are: loss,accuracy,val_loss,val_accuracy,lr\n",
            "Epoch 6/100\n",
            "1755/1755 [==============================] - 483s 275ms/step - loss: 0.2440 - accuracy: 0.9201 - val_loss: 0.1760 - val_accuracy: 0.9384\n",
            "WARNING:tensorflow:Early stopping conditioned on metric `val_acc` which is not available. Available metrics are: loss,accuracy,val_loss,val_accuracy,lr\n",
            "Epoch 7/100\n",
            "1755/1755 [==============================] - 485s 276ms/step - loss: 0.2296 - accuracy: 0.9236 - val_loss: 0.1727 - val_accuracy: 0.9401\n",
            "WARNING:tensorflow:Early stopping conditioned on metric `val_acc` which is not available. Available metrics are: loss,accuracy,val_loss,val_accuracy,lr\n",
            "Epoch 8/100\n",
            "1755/1755 [==============================] - 483s 275ms/step - loss: 0.2213 - accuracy: 0.9268 - val_loss: 0.1654 - val_accuracy: 0.9428\n",
            "WARNING:tensorflow:Early stopping conditioned on metric `val_acc` which is not available. Available metrics are: loss,accuracy,val_loss,val_accuracy,lr\n",
            "Epoch 9/100\n",
            "1755/1755 [==============================] - 482s 275ms/step - loss: 0.2136 - accuracy: 0.9273 - val_loss: 0.1700 - val_accuracy: 0.9437\n",
            "WARNING:tensorflow:Early stopping conditioned on metric `val_acc` which is not available. Available metrics are: loss,accuracy,val_loss,val_accuracy,lr\n",
            "Epoch 10/100\n",
            "1755/1755 [==============================] - 482s 275ms/step - loss: 0.2049 - accuracy: 0.9313 - val_loss: 0.1643 - val_accuracy: 0.9429\n",
            "WARNING:tensorflow:Early stopping conditioned on metric `val_acc` which is not available. Available metrics are: loss,accuracy,val_loss,val_accuracy,lr\n",
            "Epoch 11/100\n",
            "1755/1755 [==============================] - 482s 274ms/step - loss: 0.1990 - accuracy: 0.9327 - val_loss: 0.1567 - val_accuracy: 0.9439\n",
            "WARNING:tensorflow:Early stopping conditioned on metric `val_acc` which is not available. Available metrics are: loss,accuracy,val_loss,val_accuracy,lr\n",
            "Epoch 12/100\n",
            "1755/1755 [==============================] - 483s 275ms/step - loss: 0.2006 - accuracy: 0.9317 - val_loss: 0.1628 - val_accuracy: 0.9462\n",
            "WARNING:tensorflow:Early stopping conditioned on metric `val_acc` which is not available. Available metrics are: loss,accuracy,val_loss,val_accuracy,lr\n",
            "Epoch 13/100\n",
            "1755/1755 [==============================] - 484s 276ms/step - loss: 0.1925 - accuracy: 0.9349 - val_loss: 0.1585 - val_accuracy: 0.9447\n",
            "WARNING:tensorflow:Early stopping conditioned on metric `val_acc` which is not available. Available metrics are: loss,accuracy,val_loss,val_accuracy,lr\n",
            "Epoch 14/100\n",
            "1755/1755 [==============================] - 484s 276ms/step - loss: 0.1872 - accuracy: 0.9367 - val_loss: 0.1553 - val_accuracy: 0.9454\n",
            "WARNING:tensorflow:Early stopping conditioned on metric `val_acc` which is not available. Available metrics are: loss,accuracy,val_loss,val_accuracy,lr\n",
            "Epoch 15/100\n",
            "1755/1755 [==============================] - 486s 277ms/step - loss: 0.1829 - accuracy: 0.9360 - val_loss: 0.1486 - val_accuracy: 0.9459\n",
            "WARNING:tensorflow:Early stopping conditioned on metric `val_acc` which is not available. Available metrics are: loss,accuracy,val_loss,val_accuracy,lr\n",
            "Epoch 16/100\n",
            "1755/1755 [==============================] - 485s 276ms/step - loss: 0.1780 - accuracy: 0.9389 - val_loss: 0.1496 - val_accuracy: 0.9491\n",
            "WARNING:tensorflow:Early stopping conditioned on metric `val_acc` which is not available. Available metrics are: loss,accuracy,val_loss,val_accuracy,lr\n",
            "Epoch 17/100\n",
            "1755/1755 [==============================] - 485s 276ms/step - loss: 0.1792 - accuracy: 0.9393 - val_loss: 0.1485 - val_accuracy: 0.9492\n",
            "WARNING:tensorflow:Early stopping conditioned on metric `val_acc` which is not available. Available metrics are: loss,accuracy,val_loss,val_accuracy,lr\n",
            "Epoch 18/100\n",
            "1755/1755 [==============================] - 486s 277ms/step - loss: 0.1753 - accuracy: 0.9397 - val_loss: 0.1489 - val_accuracy: 0.9480\n",
            "WARNING:tensorflow:Early stopping conditioned on metric `val_acc` which is not available. Available metrics are: loss,accuracy,val_loss,val_accuracy,lr\n",
            "Epoch 19/100\n",
            "1755/1755 [==============================] - 485s 277ms/step - loss: 0.1718 - accuracy: 0.9410 - val_loss: 0.1433 - val_accuracy: 0.9488\n",
            "WARNING:tensorflow:Early stopping conditioned on metric `val_acc` which is not available. Available metrics are: loss,accuracy,val_loss,val_accuracy,lr\n",
            "Epoch 20/100\n",
            "1755/1755 [==============================] - 502s 286ms/step - loss: 0.1662 - accuracy: 0.9424 - val_loss: 0.1491 - val_accuracy: 0.9481\n",
            "WARNING:tensorflow:Early stopping conditioned on metric `val_acc` which is not available. Available metrics are: loss,accuracy,val_loss,val_accuracy,lr\n",
            "Epoch 21/100\n",
            "1755/1755 [==============================] - 538s 306ms/step - loss: 0.1716 - accuracy: 0.9408 - val_loss: 0.1465 - val_accuracy: 0.9477\n",
            "WARNING:tensorflow:Early stopping conditioned on metric `val_acc` which is not available. Available metrics are: loss,accuracy,val_loss,val_accuracy,lr\n",
            "Epoch 22/100\n",
            "1755/1755 [==============================] - 537s 306ms/step - loss: 0.1656 - accuracy: 0.9422 - val_loss: 0.1430 - val_accuracy: 0.9506\n",
            "WARNING:tensorflow:Early stopping conditioned on metric `val_acc` which is not available. Available metrics are: loss,accuracy,val_loss,val_accuracy,lr\n",
            "Epoch 23/100\n",
            "1755/1755 [==============================] - 501s 286ms/step - loss: 0.1644 - accuracy: 0.9434 - val_loss: 0.1475 - val_accuracy: 0.9483\n",
            "WARNING:tensorflow:Early stopping conditioned on metric `val_acc` which is not available. Available metrics are: loss,accuracy,val_loss,val_accuracy,lr\n",
            "Epoch 24/100\n",
            "1755/1755 [==============================] - 486s 277ms/step - loss: 0.1642 - accuracy: 0.9442 - val_loss: 0.1457 - val_accuracy: 0.9508\n",
            "WARNING:tensorflow:Early stopping conditioned on metric `val_acc` which is not available. Available metrics are: loss,accuracy,val_loss,val_accuracy,lr\n",
            "Epoch 25/100\n",
            "1755/1755 [==============================] - 486s 277ms/step - loss: 0.1613 - accuracy: 0.9446 - val_loss: 0.1382 - val_accuracy: 0.9517\n",
            "WARNING:tensorflow:Early stopping conditioned on metric `val_acc` which is not available. Available metrics are: loss,accuracy,val_loss,val_accuracy,lr\n",
            "Epoch 26/100\n",
            "1755/1755 [==============================] - 485s 277ms/step - loss: 0.1616 - accuracy: 0.9442 - val_loss: 0.1382 - val_accuracy: 0.9530\n",
            "WARNING:tensorflow:Early stopping conditioned on metric `val_acc` which is not available. Available metrics are: loss,accuracy,val_loss,val_accuracy,lr\n",
            "Epoch 27/100\n",
            "1755/1755 [==============================] - 487s 278ms/step - loss: 0.1608 - accuracy: 0.9447 - val_loss: 0.1372 - val_accuracy: 0.9528\n",
            "WARNING:tensorflow:Early stopping conditioned on metric `val_acc` which is not available. Available metrics are: loss,accuracy,val_loss,val_accuracy,lr\n",
            "Epoch 28/100\n",
            "1755/1755 [==============================] - 490s 279ms/step - loss: 0.1568 - accuracy: 0.9451 - val_loss: 0.1392 - val_accuracy: 0.9524\n",
            "WARNING:tensorflow:Early stopping conditioned on metric `val_acc` which is not available. Available metrics are: loss,accuracy,val_loss,val_accuracy,lr\n",
            "Epoch 29/100\n",
            "1755/1755 [==============================] - 487s 277ms/step - loss: 0.1526 - accuracy: 0.9464 - val_loss: 0.1343 - val_accuracy: 0.9542\n",
            "WARNING:tensorflow:Early stopping conditioned on metric `val_acc` which is not available. Available metrics are: loss,accuracy,val_loss,val_accuracy,lr\n",
            "Epoch 30/100\n",
            "1755/1755 [==============================] - 487s 277ms/step - loss: 0.1516 - accuracy: 0.9458 - val_loss: 0.1314 - val_accuracy: 0.9547\n",
            "WARNING:tensorflow:Early stopping conditioned on metric `val_acc` which is not available. Available metrics are: loss,accuracy,val_loss,val_accuracy,lr\n",
            "Epoch 31/100\n",
            "1755/1755 [==============================] - 486s 277ms/step - loss: 0.1521 - accuracy: 0.9471 - val_loss: 0.1316 - val_accuracy: 0.9534\n",
            "WARNING:tensorflow:Early stopping conditioned on metric `val_acc` which is not available. Available metrics are: loss,accuracy,val_loss,val_accuracy,lr\n",
            "Epoch 32/100\n",
            "1755/1755 [==============================] - 487s 278ms/step - loss: 0.1497 - accuracy: 0.9473 - val_loss: 0.1332 - val_accuracy: 0.9523\n",
            "WARNING:tensorflow:Early stopping conditioned on metric `val_acc` which is not available. Available metrics are: loss,accuracy,val_loss,val_accuracy,lr\n",
            "Epoch 33/100\n",
            "1755/1755 [==============================] - 486s 277ms/step - loss: 0.1497 - accuracy: 0.9470 - val_loss: 0.1355 - val_accuracy: 0.9529\n",
            "WARNING:tensorflow:Early stopping conditioned on metric `val_acc` which is not available. Available metrics are: loss,accuracy,val_loss,val_accuracy,lr\n",
            "Epoch 34/100\n",
            "1755/1755 [==============================] - 487s 278ms/step - loss: 0.1502 - accuracy: 0.9474 - val_loss: 0.1328 - val_accuracy: 0.9546\n",
            "WARNING:tensorflow:Early stopping conditioned on metric `val_acc` which is not available. Available metrics are: loss,accuracy,val_loss,val_accuracy,lr\n",
            "Epoch 35/100\n",
            "1755/1755 [==============================] - 488s 278ms/step - loss: 0.1500 - accuracy: 0.9463 - val_loss: 0.1364 - val_accuracy: 0.9524\n",
            "WARNING:tensorflow:Early stopping conditioned on metric `val_acc` which is not available. Available metrics are: loss,accuracy,val_loss,val_accuracy,lr\n",
            "Epoch 36/100\n",
            "1755/1755 [==============================] - 486s 277ms/step - loss: 0.1493 - accuracy: 0.9475 - val_loss: 0.1320 - val_accuracy: 0.9536\n",
            "WARNING:tensorflow:Early stopping conditioned on metric `val_acc` which is not available. Available metrics are: loss,accuracy,val_loss,val_accuracy,lr\n",
            "Epoch 37/100\n",
            "1755/1755 [==============================] - 486s 277ms/step - loss: 0.1450 - accuracy: 0.9489 - val_loss: 0.1327 - val_accuracy: 0.9531\n",
            "WARNING:tensorflow:Early stopping conditioned on metric `val_acc` which is not available. Available metrics are: loss,accuracy,val_loss,val_accuracy,lr\n",
            "Epoch 38/100\n",
            "1755/1755 [==============================] - 485s 276ms/step - loss: 0.1424 - accuracy: 0.9493 - val_loss: 0.1358 - val_accuracy: 0.9522\n",
            "WARNING:tensorflow:Early stopping conditioned on metric `val_acc` which is not available. Available metrics are: loss,accuracy,val_loss,val_accuracy,lr\n",
            "Epoch 39/100\n",
            "1201/1755 [===================>..........] - ETA: 2:29 - loss: 0.1432 - accuracy: 0.9496"
          ],
          "name": "stdout"
        }
      ]
    },
    {
      "cell_type": "code",
      "metadata": {
        "colab": {
          "base_uri": "https://localhost:8080/",
          "height": 196
        },
        "id": "bujnQl1S8Yi7",
        "outputId": "9df6e99e-c742-4910-c684-5fa9076dde12"
      },
      "source": [
        "model.save(\"emnist_model.h5\")"
      ],
      "execution_count": 1,
      "outputs": [
        {
          "output_type": "error",
          "ename": "NameError",
          "evalue": "ignored",
          "traceback": [
            "\u001b[0;31m---------------------------------------------------------------------------\u001b[0m",
            "\u001b[0;31mNameError\u001b[0m                                 Traceback (most recent call last)",
            "\u001b[0;32m<ipython-input-1-48591bdb5650>\u001b[0m in \u001b[0;36m<module>\u001b[0;34m()\u001b[0m\n\u001b[0;32m----> 1\u001b[0;31m \u001b[0mscore\u001b[0m \u001b[0;34m=\u001b[0m \u001b[0mmodel\u001b[0m\u001b[0;34m.\u001b[0m\u001b[0mevaluate\u001b[0m\u001b[0;34m(\u001b[0m\u001b[0mtest_x\u001b[0m\u001b[0;34m,\u001b[0m \u001b[0mtest_y\u001b[0m\u001b[0;34m,\u001b[0m \u001b[0mverbose\u001b[0m\u001b[0;34m=\u001b[0m\u001b[0;36m0\u001b[0m\u001b[0;34m)\u001b[0m\u001b[0;34m\u001b[0m\u001b[0;34m\u001b[0m\u001b[0m\n\u001b[0m\u001b[1;32m      2\u001b[0m \u001b[0mprint\u001b[0m\u001b[0;34m(\u001b[0m\u001b[0;34m\"Test loss:\"\u001b[0m\u001b[0;34m,\u001b[0m \u001b[0mscore\u001b[0m\u001b[0;34m[\u001b[0m\u001b[0;36m0\u001b[0m\u001b[0;34m]\u001b[0m\u001b[0;34m)\u001b[0m\u001b[0;34m\u001b[0m\u001b[0;34m\u001b[0m\u001b[0m\n\u001b[1;32m      3\u001b[0m \u001b[0mprint\u001b[0m\u001b[0;34m(\u001b[0m\u001b[0;34m\"Test accuracy:\"\u001b[0m\u001b[0;34m,\u001b[0m \u001b[0mscore\u001b[0m\u001b[0;34m[\u001b[0m\u001b[0;36m1\u001b[0m\u001b[0;34m]\u001b[0m\u001b[0;34m)\u001b[0m\u001b[0;34m\u001b[0m\u001b[0;34m\u001b[0m\u001b[0m\n",
            "\u001b[0;31mNameError\u001b[0m: name 'model' is not defined"
          ]
        }
      ]
    },
    {
      "cell_type": "code",
      "metadata": {
        "id": "RifFIjlg9An6"
      },
      "source": [
        "\n",
        "model.save_weights(\"emnist_model_weights.h5\")"
      ],
      "execution_count": null,
      "outputs": []
    },
    {
      "cell_type": "code",
      "metadata": {
        "id": "_dHNLwP69EOe"
      },
      "source": [
        "y_pred = model.predict(test_x)\n",
        "y_pred = (y_pred > 0.5)\n",
        "\n",
        "cm = metrics.confusion_matrix(test_y.argmax(axis=1), y_pred.argmax(axis=1))\n",
        "print(cm)"
      ],
      "execution_count": null,
      "outputs": []
    }
  ]
}